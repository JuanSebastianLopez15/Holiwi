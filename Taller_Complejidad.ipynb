{
  "cells": [
    {
      "cell_type": "code",
      "execution_count": null,
      "metadata": {},
      "outputs": [],
      "source": [
        "import time as t\n",
        "import matplotlib.pyplot as plt\n",
        "def visualizarComplejidad(ejeX, ejeY):\n",
        "    fig = plt.figure(figsize=(6,10))\n",
        "    plt.plot(ejeX,ejeY,marker='x')\n",
        "    plt.xlabel('Tamano')\n",
        "    plt.ylabel('Tiempo')\n",
        "    plt.gring(True)\n"
      ]
    },
    {
      "cell_type": "code",
      "execution_count": null,
      "metadata": {},
      "outputs": [],
      "source": [
        "import random as rd\n",
        "def testearAlgoritmo(algoritmo):\n",
        "    tamLista = (i*5 for i in range(1,20))\n",
        "    tiempos = []\n",
        "    tamanio = []\n",
        "    for i in tamLista:\n",
        "        lista = [rd.randint(1,1001) for x in range(i)]\n",
        "        inicio = t.time()\n",
        "        algoritmo(lista)\n",
        "        final = t.time()\n",
        "        total = final - inicio\n",
        "        tiempos.append(total)\n",
        "        tamanio.append(i)\n",
        "    visualizarComplejidad(tamanio,tiempos)\n"
      ]
    },
    {
      "cell_type": "markdown",
      "metadata": {
        "id": "5ydVqFtCPSq0"
      },
      "source": [
        "**Ejercicio 1:** Detección de Elementos Duplicados\n",
        "\n",
        "Dado un arreglo de números, implementa dos soluciones diferentes para determinar si el arreglo contiene elementos duplicados. Evalúa y compara el rendimiento de ambas implementaciones."
      ]
    },
    {
      "cell_type": "code",
      "execution_count": 5,
      "metadata": {
        "id": "jhXdSQA8PIvI"
      },
      "outputs": [
        {
          "name": "stdout",
          "output_type": "stream",
          "text": [
            "1 3\n",
            "1 4\n",
            "1 5\n",
            "1 6\n",
            "1 6\n",
            "2 4\n",
            "2 5\n",
            "2 6\n",
            "2 6\n",
            "3 5\n",
            "3 6\n",
            "3 6\n",
            "4 6\n",
            "4 6\n",
            "5 6\n",
            "False\n"
          ]
        }
      ],
      "source": [
        "# Código 1\n",
        "def detectarDuplicado(lista):\n",
        "    for i in lista:\n",
        "        for j in range(i+1,len(lista)):\n",
        "            print(i,lista[j])\n",
        "            if i == lista[j]:\n",
        "                return True\n",
        "    return False\n",
        "lista = [1,2,3,4,5,6,6]\n",
        "print(detectarDuplicado(lista))"
      ]
    },
    {
      "cell_type": "code",
      "execution_count": 3,
      "metadata": {
        "id": "p6wNSdjGPcj1"
      },
      "outputs": [
        {
          "name": "stdout",
          "output_type": "stream",
          "text": [
            "1 2\n",
            "2 3\n",
            "3 4\n",
            "4 5\n",
            "5 6\n",
            "6 6\n",
            "True\n"
          ]
        }
      ],
      "source": [
        "def determinarRepetido(lista):\n",
        "    listaOrdenada = lista.sort()\n",
        "    for i in range(0,len(lista)-1):\n",
        "        print(lista[i],lista[i+1])\n",
        "        if lista[i] == lista[i+1]:\n",
        "            return True\n",
        "    return False\n",
        "lista = [1,2,3,4,5,6,6]\n",
        "print(determinarRepetido(lista))"
      ]
    },
    {
      "cell_type": "code",
      "execution_count": null,
      "metadata": {
        "id": "CupOOHYLPhIK"
      },
      "outputs": [],
      "source": [
        "# Visualización del comportamiento del algoritmo"
      ]
    },
    {
      "cell_type": "markdown",
      "metadata": {
        "id": "2U7V8jB1PqeP"
      },
      "source": [
        "**Ejercicio 2:** Búsqueda en una Matriz\n",
        "\n",
        "Se tiene una matriz de tamaño 𝑚×𝑛 donde cada fila está ordenada de manera ascendente. Implementa un algoritmo que recorra la matriz para buscar un número objetivo."
      ]
    },
    {
      "cell_type": "code",
      "execution_count": 15,
      "metadata": {
        "id": "9JTP1-73P3l2"
      },
      "outputs": [
        {
          "name": "stdout",
          "output_type": "stream",
          "text": [
            "True\n"
          ]
        }
      ],
      "source": [
        "# Código 1\n",
        "def buscar(num, lista):\n",
        "    for i in lista:\n",
        "        for j in i:\n",
        "            if j== num:\n",
        "                return True\n",
        "    return False\n",
        "listaMatriz= [[1,2,3],[4,5,6],[7,8,9]]\n",
        "print(buscar(9, listaMatriz))"
      ]
    },
    {
      "cell_type": "code",
      "execution_count": null,
      "metadata": {
        "id": "8vSMVhcIP-9J"
      },
      "outputs": [
        {
          "name": "stdout",
          "output_type": "stream",
          "text": [
            "True\n"
          ]
        }
      ],
      "source": [
        "def busquedaListaBinaria(target, lista):\n",
        "    if(len(lista) == 1):\n",
        "        return target == lista[0]\n",
        "    mitad = len(lista) // 2\n",
        "    if(lista[mitad]==target):\n",
        "        return True\n",
        "    elif target > mitad:\n",
        "        return busquedaListaBinaria(target,lista[mitad+1::])\n",
        "    else:\n",
        "        return busquedaListaBinaria(target,lista[::mitad])\n",
        "def buscarBinario(target, matriz):\n",
        "    for i in range(0,len(matriz)):\n",
        "        if(matriz[i][len(matriz[i])-1] < target or matriz[i][0] > target):\n",
        "            i += 1\n",
        "        else:\n",
        "            if busquedaListaBinaria(target,matriz[i]):\n",
        "                return True\n",
        "    return False\n",
        "listaMatriz= [[1,2,3],[4,5,6],[7,8,9]]\n",
        "print(buscarBinario(4,listaMatriz))\n",
        "visualizarComplejidad()"
      ]
    },
    {
      "cell_type": "code",
      "execution_count": null,
      "metadata": {},
      "outputs": [],
      "source": []
    },
    {
      "cell_type": "code",
      "execution_count": null,
      "metadata": {
        "id": "Vumzfe6HQAPZ"
      },
      "outputs": [],
      "source": [
        "# Visualización del comportamiento del algoritmo"
      ]
    },
    {
      "cell_type": "markdown",
      "metadata": {
        "id": "-AAxaAgVQeWO"
      },
      "source": [
        "**Ejercicio 3:** Búsqueda Binaria en Arreglo Desordenado\n",
        "\n",
        "Dado un arreglo desordenado, crea dos implementaciones de búsqueda binaria que determinen la posición de un elemento dado. Compara el rendimiento de ambas versiones."
      ]
    },
    {
      "cell_type": "code",
      "execution_count": null,
      "metadata": {
        "id": "gWHnnCIZQqiF"
      },
      "outputs": [],
      "source": [
        "# Código 1"
      ]
    },
    {
      "cell_type": "code",
      "execution_count": null,
      "metadata": {
        "id": "tSNT825pQy8d"
      },
      "outputs": [],
      "source": [
        "# Código 2"
      ]
    },
    {
      "cell_type": "code",
      "execution_count": null,
      "metadata": {
        "id": "HST9i9SDQ0lN"
      },
      "outputs": [],
      "source": [
        "# Visualización del comportamiento del algoritmo"
      ]
    },
    {
      "cell_type": "markdown",
      "metadata": {
        "id": "T27nU0ZfRuDo"
      },
      "source": [
        "**Ejercicio 4:** Búsqueda del Elemento Mínimo en un Arreglo\n",
        "\n",
        "Dado un arreglo de números, desarrolla dos algoritmos para encontrar el elemento mínimo"
      ]
    },
    {
      "cell_type": "code",
      "execution_count": null,
      "metadata": {
        "id": "9pk1DqkuRsdI"
      },
      "outputs": [],
      "source": [
        "# Código 1"
      ]
    },
    {
      "cell_type": "code",
      "execution_count": null,
      "metadata": {
        "id": "7U_S-9w6RzVV"
      },
      "outputs": [],
      "source": [
        "# Código 2"
      ]
    },
    {
      "cell_type": "code",
      "execution_count": null,
      "metadata": {
        "id": "4ascHKJWR3Xo"
      },
      "outputs": [],
      "source": [
        "# Visualización del comportamiento del algoritmo"
      ]
    },
    {
      "cell_type": "markdown",
      "metadata": {
        "id": "nZLvIOeXTPYH"
      },
      "source": [
        "**Ejercicio 5:** Contar Frecuencia de Palabras en un Texto\n",
        "\n",
        "Dado un bloque de texto, implementa dos soluciones para contar la frecuencia de cada palabra"
      ]
    },
    {
      "cell_type": "code",
      "execution_count": null,
      "metadata": {
        "id": "CDjJ8lq5TT_s"
      },
      "outputs": [],
      "source": [
        "# Código 1"
      ]
    },
    {
      "cell_type": "code",
      "execution_count": null,
      "metadata": {
        "id": "RI7Dj7-HTZZk"
      },
      "outputs": [],
      "source": [
        "# Código 2"
      ]
    },
    {
      "cell_type": "code",
      "execution_count": null,
      "metadata": {
        "id": "GfhwFk4ITcPN"
      },
      "outputs": [],
      "source": [
        "# Visualización del comportamiento del algoritmo"
      ]
    }
  ],
  "metadata": {
    "colab": {
      "provenance": []
    },
    "kernelspec": {
      "display_name": ".venv",
      "language": "python",
      "name": "python3"
    },
    "language_info": {
      "codemirror_mode": {
        "name": "ipython",
        "version": 3
      },
      "file_extension": ".py",
      "mimetype": "text/x-python",
      "name": "python",
      "nbconvert_exporter": "python",
      "pygments_lexer": "ipython3",
      "version": "3.13.1"
    }
  },
  "nbformat": 4,
  "nbformat_minor": 0
}
